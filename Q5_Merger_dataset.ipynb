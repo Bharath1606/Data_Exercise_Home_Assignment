{
 "cells": [
  {
   "cell_type": "code",
   "execution_count": 2,
   "metadata": {},
   "outputs": [],
   "source": [
    "import pandas as pd"
   ]
  },
  {
   "cell_type": "markdown",
   "metadata": {},
   "source": [
    "Load the Data"
   ]
  },
  {
   "cell_type": "code",
   "execution_count": 3,
   "metadata": {},
   "outputs": [],
   "source": [
    "Dataset1 = pd.read_csv(\"./Dataset1.csv\")\n",
    "Dataset2 = pd.read_csv(\"./Dataset2.csv\")"
   ]
  },
  {
   "cell_type": "markdown",
   "metadata": {},
   "source": [
    "Joining the dataset1 and dataset2"
   ]
  },
  {
   "cell_type": "code",
   "execution_count": 4,
   "metadata": {},
   "outputs": [],
   "source": [
    "Masterdataset=Dataset1.merge(Dataset2, how='outer')"
   ]
  },
  {
   "cell_type": "code",
   "execution_count": 5,
   "metadata": {},
   "outputs": [
    {
     "data": {
      "text/plain": [
       "(2956581, 39)"
      ]
     },
     "execution_count": 5,
     "metadata": {},
     "output_type": "execute_result"
    }
   ],
   "source": [
    "Masterdataset.shape"
   ]
  },
  {
   "cell_type": "code",
   "execution_count": 7,
   "metadata": {},
   "outputs": [
    {
     "data": {
      "text/plain": [
       "Index(['CENSUS_YEAR', 'GEO_CODE (POR)', 'GEO_LEVEL', 'GEO_NAME', 'GNR',\n",
       "       'DATA_QUALITY_FLAG', 'ALT_GEO_CODE',\n",
       "       'DIM: Registered or Treaty Indian status (3)',\n",
       "       'Member ID: Registered or Treaty Indian status (3)',\n",
       "       'Notes: Registered or Treaty Indian status (3)', 'DIM: Age (9)',\n",
       "       'Member ID: Age (9)', 'Notes: Age (9)', 'DIM: Sex (3)',\n",
       "       'Member ID: Sex (3)', 'Notes: Sex (3)', 'DIM: Income statistics (17)',\n",
       "       'Member ID: Income statistics (17)', 'Notes: Income statistics (17)',\n",
       "       'Dim: Aboriginal identity (9): Member ID: [1]: Total - Aboriginal identity (Note: 4)',\n",
       "       'Dim: Aboriginal identity (9): Member ID: [2]: Aboriginal identity (Note: 5)',\n",
       "       'Dim: Aboriginal identity (9): Member ID: [3]: Single Aboriginal responses (Note: 6)',\n",
       "       'Dim: Aboriginal identity (9): Member ID: [4]: First Nations (North American Indian) (Note: 7)',\n",
       "       'Dim: Aboriginal identity (9): Member ID: [5]: Métis',\n",
       "       'Dim: Aboriginal identity (9): Member ID: [6]: Inuk (Inuit)',\n",
       "       'Dim: Aboriginal identity (9): Member ID: [7]: Multiple Aboriginal responses (Note: 8)',\n",
       "       'Dim: Aboriginal identity (9): Member ID: [8]: Aboriginal responses not included elsewhere (Note: 9)',\n",
       "       'Dim: Aboriginal identity (9): Member ID: [9]: Non-Aboriginal identity',\n",
       "       'DIM: Household living arrangements for persons not in economic families (3)',\n",
       "       'Member ID: Household living arrangements for persons not in economic families (3)',\n",
       "       'Notes: Household living arrangements for persons not in economic families (3)',\n",
       "       'DIM: Presence of earner (3)', 'Member ID: Presence of earner (3)',\n",
       "       'Notes: Presence of earner (3)', 'DIM: After-tax income groups (18)',\n",
       "       'Member ID: After-tax income groups (18)',\n",
       "       'Notes: After-tax income groups (18)',\n",
       "       'Dim: Year (2): Member ID: [1]: 2015 (Note: 2)',\n",
       "       'Dim: Year (2): Member ID: [2]: 2005 (Note: 3)'],\n",
       "      dtype='object')"
      ]
     },
     "execution_count": 7,
     "metadata": {},
     "output_type": "execute_result"
    }
   ],
   "source": [
    "Masterdataset.columns"
   ]
  },
  {
   "cell_type": "markdown",
   "metadata": {},
   "source": [
    "Saving the Masterdataset"
   ]
  },
  {
   "cell_type": "code",
   "execution_count": 16,
   "metadata": {},
   "outputs": [],
   "source": [
    "Masterdataset.to_csv(\"./Masterdataset.csv\")"
   ]
  },
  {
   "cell_type": "code",
   "execution_count": null,
   "metadata": {},
   "outputs": [],
   "source": []
  },
  {
   "cell_type": "code",
   "execution_count": null,
   "metadata": {},
   "outputs": [],
   "source": []
  },
  {
   "cell_type": "code",
   "execution_count": null,
   "metadata": {},
   "outputs": [],
   "source": []
  }
 ],
 "metadata": {
  "kernelspec": {
   "display_name": "Python 3",
   "language": "python",
   "name": "python3"
  },
  "language_info": {
   "codemirror_mode": {
    "name": "ipython",
    "version": 3
   },
   "file_extension": ".py",
   "mimetype": "text/x-python",
   "name": "python",
   "nbconvert_exporter": "python",
   "pygments_lexer": "ipython3",
   "version": "3.8.5"
  }
 },
 "nbformat": 4,
 "nbformat_minor": 4
}
